{
 "cells": [
  {
   "cell_type": "code",
   "execution_count": 1,
   "metadata": {},
   "outputs": [],
   "source": [
    "user_input = ''\n",
    "\n",
    "while user_input.lower() != 'done':\n",
    "    user_input = input('Enter a new value, or done when done')"
   ]
  },
  {
   "cell_type": "code",
   "execution_count": null,
   "metadata": {},
   "outputs": [],
   "source": [
    "# Creamos la variable que almacena el texto\n",
    "user_input = ''\n",
    "# Creamos la lista que almacena cada uno de los textos que el usuario ingresa\n",
    "inputs = []\n",
    "\n",
    "# Ciclo while\n",
    "while user_input.lower() != 'done':\n",
    "    # Verificamos si hay un valor en user_input\n",
    "    if user_input:\n",
    "        # Almacenamos ese valor en la lista\n",
    "        inputs.append(user_input)\n",
    "    # Capturamos un nuevo valor\n",
    "    user_input = input('Enter a new value, or done when done')"
   ]
  },
  {
   "cell_type": "code",
   "execution_count": 3,
   "metadata": {},
   "outputs": [
    {
     "name": "stdout",
     "output_type": "stream",
     "text": [
      "4\n",
      "3\n",
      "2\n",
      "1\n",
      "0\n",
      "Blast off!! 🚀\n"
     ]
    }
   ],
   "source": [
    "from time import sleep\n",
    "countdown = [4, 3, 2, 1, 0]\n",
    "for number in countdown:\n",
    "    print(number)\n",
    "    sleep(1)\n",
    "print(\"Blast off!! 🚀\")"
   ]
  }
 ],
 "metadata": {
  "interpreter": {
   "hash": "ff514226019538e00b06d60e0845596ea24ddcc85d9f4856e8453e7c48e8444b"
  },
  "kernelspec": {
   "display_name": "Python 3.9.10 64-bit (windows store)",
   "language": "python",
   "name": "python3"
  },
  "language_info": {
   "codemirror_mode": {
    "name": "ipython",
    "version": 3
   },
   "file_extension": ".py",
   "mimetype": "text/x-python",
   "name": "python",
   "nbconvert_exporter": "python",
   "pygments_lexer": "ipython3",
   "version": "3.9.10"
  },
  "orig_nbformat": 4
 },
 "nbformat": 4,
 "nbformat_minor": 2
}
