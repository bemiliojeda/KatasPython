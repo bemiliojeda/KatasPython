{
 "cells": [
  {
   "cell_type": "code",
   "execution_count": 6,
   "metadata": {},
   "outputs": [
    {
     "name": "stdout",
     "output_type": "stream",
     "text": [
      "El apodo de marte es:  Planeta Rojo\n",
      "Hay 8 planetas en la lista\n"
     ]
    }
   ],
   "source": [
    "planets = ['Mercury', 'Venus', 'Earth', 'Mars', 'Jupiter', 'Saturn', 'Uranus', 'Neptune']\n",
    "planets[3] = \"Planeta Rojo\"\n",
    "print('El apodo de marte es: ', planets[3])\n",
    "numero_planetas = len(planets)\n",
    "print('Hay', numero_planetas, 'planetas en la lista')"
   ]
  },
  {
   "cell_type": "code",
   "execution_count": 13,
   "metadata": {},
   "outputs": [
    {
     "name": "stdout",
     "output_type": "stream",
     "text": [
      "Hay 9 planetas en la lista\n",
      "Wacha el planeta Earth\n"
     ]
    }
   ],
   "source": [
    "planets = ['Mercury', 'Venus', 'Earth', 'Mars', 'Jupiter', 'Saturn', 'Uranus', 'Neptune']\n",
    "planets.append('Lolito')\n",
    "numero_planetas = len(planets)\n",
    "print('Hay', numero_planetas, 'planetas en la lista')\n",
    "print('Wacha el planeta', planets[2])\n"
   ]
  },
  {
   "cell_type": "code",
   "execution_count": 29,
   "metadata": {},
   "outputs": [
    {
     "name": "stdout",
     "output_type": "stream",
     "text": [
      "Hay 8 planetas en la lista\n",
      "Seleccionaste el planeta Uranus\n"
     ]
    }
   ],
   "source": [
    "planets = ['Mercury', 'Venus', 'Earth', 'Mars', 'Jupiter', 'Saturn', 'Uranus', 'Neptune']\n",
    "numero_planetas = len(planets)\n",
    "print('Hay', numero_planetas, 'planetas en la lista')\n",
    "print('Seleccionaste el planeta', planets[-2])\n"
   ]
  },
  {
   "cell_type": "code",
   "execution_count": 31,
   "metadata": {},
   "outputs": [
    {
     "name": "stdout",
     "output_type": "stream",
     "text": [
      "Seleccionaste el planeta 4\n"
     ]
    }
   ],
   "source": [
    "planets = ['Mercury', 'Venus', 'Earth', 'Mars', 'Jupiter', 'Saturn', 'Uranus', 'Neptune']\n",
    "print('Seleccionaste el planeta', planets.index('Jupiter'))"
   ]
  },
  {
   "cell_type": "code",
   "execution_count": 32,
   "metadata": {},
   "outputs": [
    {
     "name": "stdout",
     "output_type": "stream",
     "text": [
      "Look this operation 0.0288 Viste, hice una multiplicacion de elementos de una lista!\n"
     ]
    }
   ],
   "source": [
    "planets = ['Mercury', 'Venus', 'Earth', 'Mars', 'Jupiter', 'Saturn', 'Uranus', 'Neptune']\n",
    "numeros=[0.12, 0.24, 0.55]\n",
    "\n",
    "print('Look this operation', numeros[0]*numeros[1], 'Viste, hice una multiplicacion de elementos de una lista!')\n"
   ]
  },
  {
   "cell_type": "code",
   "execution_count": 33,
   "metadata": {},
   "outputs": [
    {
     "name": "stdout",
     "output_type": "stream",
     "text": [
      "Mira we, en la lista numeros el valor mas pequeño es de: 0.12 y el valor mas grande es de: 0.55\n"
     ]
    }
   ],
   "source": [
    "planets = ['Mercury', 'Venus', 'Earth', 'Mars', 'Jupiter', 'Saturn', 'Uranus', 'Neptune']\n",
    "numeros=[0.12, 0.24, 0.55]\n",
    "\n",
    "print('Mira we, en la lista numeros el valor mas pequeño es de:', min(numeros), 'y el valor mas grande es de:', max(numeros))"
   ]
  },
  {
   "cell_type": "code",
   "execution_count": 38,
   "metadata": {},
   "outputs": [
    {
     "name": "stdout",
     "output_type": "stream",
     "text": [
      "[0.12, 0.55, 0.74]\n"
     ]
    }
   ],
   "source": [
    "planets = ['Mercury', 'Venus', 'Earth', 'Mars', 'Jupiter', 'Saturn', 'Uranus', 'Neptune']\n",
    "numeros=[0.12, 0.74, 0.55]\n",
    "numeros.sort()\n",
    "print(numeros)"
   ]
  }
 ],
 "metadata": {
  "interpreter": {
   "hash": "ff514226019538e00b06d60e0845596ea24ddcc85d9f4856e8453e7c48e8444b"
  },
  "kernelspec": {
   "display_name": "Python 3.9.10 64-bit (windows store)",
   "language": "python",
   "name": "python3"
  },
  "language_info": {
   "codemirror_mode": {
    "name": "ipython",
    "version": 3
   },
   "file_extension": ".py",
   "mimetype": "text/x-python",
   "name": "python",
   "nbconvert_exporter": "python",
   "pygments_lexer": "ipython3",
   "version": "3.9.10"
  },
  "orig_nbformat": 4
 },
 "nbformat": 4,
 "nbformat_minor": 2
}
